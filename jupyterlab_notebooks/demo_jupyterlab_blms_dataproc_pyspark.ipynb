{
 "cells": [
  {
   "cell_type": "markdown",
   "id": "1cbf739a-a076-4364-8026-b0302b16abd5",
   "metadata": {
    "tags": []
   },
   "source": [
    "# Check Spark Session created by Dataproc Serverless Runtime Template"
   ]
  },
  {
   "cell_type": "code",
   "execution_count": null,
   "id": "f65eb079-e67e-4359-874c-152c8ced23fa",
   "metadata": {
    "tags": []
   },
   "outputs": [],
   "source": [
    "spark"
   ]
  },
  {
   "cell_type": "code",
   "execution_count": null,
   "id": "be1420db-27a8-418d-87f6-fcb421f22122",
   "metadata": {
    "tags": []
   },
   "outputs": [],
   "source": [
    "#list of properties added to Dataproc Serverless Notebooks Runtime Template\n",
    "myproperties = [\n",
    "    \"spark.app.name\",\n",
    "    \"spark.sql.catalog.my_datalakehouse_iceberg_catalog\",\n",
    "    \"spark.sql.catalog.my_datalakehouse_iceberg_catalog.catalog-impl\",\n",
    "    \"spark.sql.catalog.my_datalakehouse_iceberg_catalog.gcp_project\",\n",
    "    \"spark.sql.catalog.my_datalakehouse_iceberg_catalog.gcp_location\",\n",
    "    \"spark.sql.catalog.my_datalakehouse_iceberg_catalog.blms_catalog\",\n",
    "    \"spark.sql.catalog.my_datalakehouse_iceberg_catalog.warehouse\",\n",
    "    \"spark.jars\",\n",
    "    \"spark.jars.packages\",\n",
    "]\n",
    "myconfig = spark.sparkContext.getConf()\n",
    "for prop in myproperties:\n",
    "    value = myconfig.get(prop)\n",
    "    print(f\"{prop} = {value}\")"
   ]
  },
  {
   "cell_type": "markdown",
   "id": "4e879b7e-94ae-46dd-aaee-5677f6be66b7",
   "metadata": {
    "tags": []
   },
   "source": [
    "# Query Catalogs in the BigLake Metastore"
   ]
  },
  {
   "cell_type": "code",
   "execution_count": 14,
   "id": "a154d94b-760a-4446-acb3-e5cda4498489",
   "metadata": {
    "tags": []
   },
   "outputs": [
    {
     "data": {
      "text/plain": [
       "[CatalogMetadata(name='my_datalakehouse_iceberg_catalog', description=None),\n",
       " CatalogMetadata(name='spark_catalog', description=None)]"
      ]
     },
     "execution_count": 14,
     "metadata": {},
     "output_type": "execute_result"
    }
   ],
   "source": [
    "spark.catalog.listCatalogs()"
   ]
  },
  {
   "cell_type": "code",
   "execution_count": 24,
   "id": "bda97fdb-060e-491b-afdf-230f583cc353",
   "metadata": {
    "tags": []
   },
   "outputs": [
    {
     "name": "stdout",
     "output_type": "stream",
     "text": [
      "+--------------------------------+\n",
      "|catalog                         |\n",
      "+--------------------------------+\n",
      "|my_datalakehouse_iceberg_catalog|\n",
      "|spark_catalog                   |\n",
      "+--------------------------------+\n",
      "\n"
     ]
    }
   ],
   "source": [
    "spark.sql(\"SHOW CATALOGS;\").show(truncate = False)"
   ]
  },
  {
   "cell_type": "markdown",
   "id": "4dd6b44b-9432-4779-bd9f-72089817cfff",
   "metadata": {
    "tags": []
   },
   "source": [
    "# Query Iceberg tables in the BigLake Metastore with SQL\n",
    "\n",
    "https://iceberg.apache.org/docs/latest/spark-queries/#querying-with-sql"
   ]
  },
  {
   "cell_type": "code",
   "execution_count": 23,
   "id": "629ca710-f147-48bf-84c5-2f4e6150c4bf",
   "metadata": {
    "tags": []
   },
   "outputs": [
    {
     "name": "stdout",
     "output_type": "stream",
     "text": [
      "+-----------------+----+---+-----+---+----+-----+-----+---+---+----+----+\n",
      "|model            |mpg |cyl|disp |hp |drat|wt   |qsec |vs |am |gear|carb|\n",
      "+-----------------+----+---+-----+---+----+-----+-----+---+---+----+----+\n",
      "|Mazda RX4        |21.0|6  |160.0|110|3.9 |2.62 |16.46|0  |1.0|4   |4   |\n",
      "|Mazda RX4 Wag    |21.0|6  |160.0|110|3.9 |2.875|17.02|0  |1.0|4   |4   |\n",
      "|Datsun 710       |22.8|4  |108.0|93 |3.85|2.32 |18.61|1  |1.0|4   |1   |\n",
      "|Hornet 4 Drive   |21.4|6  |258.0|110|3.08|3.215|19.44|1  |0.0|3   |1   |\n",
      "|Hornet Sportabout|18.7|8  |360.0|175|3.15|3.44 |17.02|0  |0.0|3   |2   |\n",
      "|Valiant          |18.1|6  |225.0|105|2.76|3.46 |20.22|1  |0.0|3   |1   |\n",
      "|Duster 360       |14.3|8  |360.0|245|3.21|3.57 |15.84|0  |0.0|3   |4   |\n",
      "|Merc 240D        |24.4|4  |146.7|62 |3.69|3.19 |20.0 |1  |0.0|4   |2   |\n",
      "|Merc 230         |22.8|4  |140.8|95 |3.92|3.15 |22.9 |1  |0.0|4   |2   |\n",
      "|Merc 280         |19.2|6  |167.6|123|3.92|3.44 |18.3 |1  |0.0|4   |4   |\n",
      "+-----------------+----+---+-----+---+----+-----+-----+---+---+----+----+\n",
      "\n"
     ]
    }
   ],
   "source": [
    "query = f\"SELECT * FROM {catalog}.{database}.{table} LIMIT 10;\"\n",
    "spark.sql(query).show(truncate = False)"
   ]
  },
  {
   "cell_type": "markdown",
   "id": "320af933-c2c8-4f95-9ffc-cbe4db453d10",
   "metadata": {},
   "source": [
    "# Query Iceberg tables in the BigLake Metastore with DataFrames\n",
    "\n",
    "https://iceberg.apache.org/docs/latest/spark-queries/#querying-with-dataframes"
   ]
  },
  {
   "cell_type": "code",
   "execution_count": 22,
   "id": "8934c1af-5cbf-493d-878b-aecd118b152b",
   "metadata": {
    "tags": []
   },
   "outputs": [
    {
     "name": "stdout",
     "output_type": "stream",
     "text": [
      "+-----------------+----+---+-----+---+----+-----+-----+---+---+----+----+\n",
      "|model            |mpg |cyl|disp |hp |drat|wt   |qsec |vs |am |gear|carb|\n",
      "+-----------------+----+---+-----+---+----+-----+-----+---+---+----+----+\n",
      "|Mazda RX4        |21.0|6  |160.0|110|3.9 |2.62 |16.46|0  |1.0|4   |4   |\n",
      "|Mazda RX4 Wag    |21.0|6  |160.0|110|3.9 |2.875|17.02|0  |1.0|4   |4   |\n",
      "|Datsun 710       |22.8|4  |108.0|93 |3.85|2.32 |18.61|1  |1.0|4   |1   |\n",
      "|Hornet 4 Drive   |21.4|6  |258.0|110|3.08|3.215|19.44|1  |0.0|3   |1   |\n",
      "|Hornet Sportabout|18.7|8  |360.0|175|3.15|3.44 |17.02|0  |0.0|3   |2   |\n",
      "|Valiant          |18.1|6  |225.0|105|2.76|3.46 |20.22|1  |0.0|3   |1   |\n",
      "|Duster 360       |14.3|8  |360.0|245|3.21|3.57 |15.84|0  |0.0|3   |4   |\n",
      "|Merc 240D        |24.4|4  |146.7|62 |3.69|3.19 |20.0 |1  |0.0|4   |2   |\n",
      "|Merc 230         |22.8|4  |140.8|95 |3.92|3.15 |22.9 |1  |0.0|4   |2   |\n",
      "|Merc 280         |19.2|6  |167.6|123|3.92|3.44 |18.3 |1  |0.0|4   |4   |\n",
      "+-----------------+----+---+-----+---+----+-----+-----+---+---+----+----+\n",
      "only showing top 10 rows\n",
      "\n"
     ]
    }
   ],
   "source": [
    "df = spark.table(f\"{catalog}.{database}.{table}\")\n",
    "df.show(n=10, truncate = False)"
   ]
  },
  {
   "cell_type": "markdown",
   "id": "28fd6f64-4bdf-4437-a1f0-b4f74ac96637",
   "metadata": {},
   "source": [
    "# Inspecting Iceberg tables in the BigLake Metastore\n",
    "\n",
    "https://iceberg.apache.org/docs/latest/spark-queries/#history"
   ]
  },
  {
   "cell_type": "code",
   "execution_count": null,
   "id": "d0f734e8-efde-40d1-8f38-6375c534ca60",
   "metadata": {
    "tags": []
   },
   "outputs": [],
   "source": [
    "spark.sql(f\"SELECT * from {catalog}.{database}.{table}.metadata_log_entries\").show(truncate = False)"
   ]
  }
 ],
 "metadata": {
  "environment": {
   "kernel": "9c39b79e5d2e7072beb4bd59-blmsv4",
   "name": "workbench-notebooks.m124",
   "type": "gcloud",
   "uri": "us-docker.pkg.dev/deeplearning-platform-release/gcr.io/workbench-notebooks:m124"
  },
  "kernelspec": {
   "display_name": "v4 on Serverless Spark (Remote)",
   "language": "python",
   "name": "9c39b79e5d2e7072beb4bd59-blmsv4"
  },
  "language_info": {
   "codemirror_mode": {
    "name": "ipython",
    "version": 3
   },
   "file_extension": ".py",
   "mimetype": "text/x-python",
   "name": "python",
   "nbconvert_exporter": "python",
   "pygments_lexer": "ipython3",
   "version": "3.12.3"
  }
 },
 "nbformat": 4,
 "nbformat_minor": 5
}
